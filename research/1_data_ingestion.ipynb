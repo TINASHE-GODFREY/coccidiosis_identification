{
 "cells": [
  {
   "cell_type": "code",
   "execution_count": 1,
   "metadata": {},
   "outputs": [],
   "source": [
    "import os"
   ]
  },
  {
   "cell_type": "code",
   "execution_count": 2,
   "metadata": {},
   "outputs": [],
   "source": [
    "os.chdir(\"../\")"
   ]
  },
  {
   "cell_type": "code",
   "execution_count": 3,
   "metadata": {},
   "outputs": [],
   "source": [
    "# data ingestion configuration \n",
    "from dataclasses import dataclass\n",
    "from pathlib import     Path\n",
    "\n",
    "@dataclass(frozen=True)\n",
    "class DataIngestionConfig:\n",
    "    root_dir: Path\n",
    "    source_url: str\n",
    "    local_datafiles: Path\n",
    "    unzip_dir: Path"
   ]
  },
  {
   "cell_type": "code",
   "execution_count": 4,
   "metadata": {},
   "outputs": [],
   "source": [
    "#from classifier.constants import *\n",
    "#from classifier.utils.common_functions import read_yaml, create_dirctories\n",
    "\n"
   ]
  },
  {
   "cell_type": "code",
   "execution_count": 5,
   "metadata": {},
   "outputs": [
    {
     "name": "stdout",
     "output_type": "stream",
     "text": [
      "2024-10-15 16:32:17,995 - classifier - INFO - welcome tinashe\n"
     ]
    }
   ],
   "source": [
    "from classifier.constants import *\n",
    "from classifier.utils.common_functions import *\n",
    "\n",
    "\n",
    "class ConfigurationManager:\n",
    "    def __init__(\n",
    "            self,\n",
    "            config_filepath= CONFIG_FILE_PATH,\n",
    "            parameters_filepath= PARAMETERS_FILE_PATH):\n",
    "         \n",
    "            self.config=read_yaml(config_filepath)\n",
    "            self.parameters=read_yaml(parameters_filepath)\n",
    "\n",
    "            create_dirctories([self.config.artifacts_roots])\n",
    "         \n",
    "            \n",
    "\n",
    "    def get_data_ingestion_config(self) -> DataIngestionConfig:\n",
    "          config=self.config.data_ingestion\n",
    "          create_dirctories([config.root_dir])\n",
    "\n",
    "          data_ingestion_config=DataIngestionConfig(\n",
    "                root_dir=config.root_dir,\n",
    "                source_url=config.source_url,\n",
    "                local_datafiles=config.local_datafiles,\n",
    "                unzip_dir= config.unzip_dir\n",
    "                )\n",
    "\n",
    "          return data_ingestion_config\n",
    "\n"
   ]
  },
  {
   "cell_type": "code",
   "execution_count": 6,
   "metadata": {},
   "outputs": [],
   "source": [
    "# updating the componets when getting the pictures\n",
    "import os \n",
    "import urllib.request as request\n",
    "import zipfile\n",
    "from classifier import logger\n",
    "from  classifier.utils.common_functions import get_size\n",
    "\n",
    "\n"
   ]
  },
  {
   "cell_type": "code",
   "execution_count": 7,
   "metadata": {},
   "outputs": [],
   "source": [
    "class DataIngestion:\n",
    "    def __init__(self, config: DataIngestionConfig):\n",
    "        self.config= config \n",
    "\n",
    "\n",
    "\n",
    "# method to download the zip file\n",
    "    def download_file(self):\n",
    "        if not os.path.exists(self.config.local_datafiles):\n",
    "            filename, headers =request.urlretrieve(url=self.config.source_url, filename=self.config.local_datafiles)\n",
    "            logger.info(f\"{filename} download!! with the following info {headers}\")\n",
    "\n",
    "        else:\n",
    "            logger.info(f\"file already exits of size {get_size(Path(self.config.local_datafiles))}\")\n",
    "\n",
    "    #method to unzip the  zip file \n",
    "    def extract_zip_files(self):\n",
    "        \"\"\" zip_file_path: str\n",
    "        Extract the zip file into  the data directory\n",
    "        function returns None\n",
    "        \"\"\"\n",
    "        unzip_path=self.config.unzip_dir\n",
    "        os.makedirs(unzip_path, exist_ok=True)\n",
    "        with zipfile.ZipFile(self.config.local_datafiles, \"r\") as zip_ref:\n",
    "            zip_ref.extractall(unzip_path)\n",
    "\n",
    "\n"
   ]
  },
  {
   "cell_type": "code",
   "execution_count": 8,
   "metadata": {},
   "outputs": [
    {
     "name": "stdout",
     "output_type": "stream",
     "text": [
      "2024-10-15 16:32:19,183 - classifier - INFO - yaml file: config/config.yaml loaded succefully\n",
      "2024-10-15 16:32:19,204 - classifier - INFO - yaml file: parameters.yaml loaded succefully\n",
      "2024-10-15 16:32:19,236 - classifier - INFO - created a directory at: artifacts\n",
      "2024-10-15 16:32:19,253 - classifier - INFO - created a directory at: artifacts/data_ingestion\n",
      "2024-10-15 16:33:05,148 - classifier - INFO - artifacts/data_ingestion/data.zip download!! with the following info Connection: close\n",
      "Content-Length: 11631271\n",
      "Cache-Control: max-age=300\n",
      "Content-Security-Policy: default-src 'none'; style-src 'unsafe-inline'; sandbox\n",
      "Content-Type: application/zip\n",
      "ETag: \"e28947986329a0ca3e3edfcc802fd6ce7d40446a490363d77e5403d5c1d532e3\"\n",
      "Strict-Transport-Security: max-age=31536000\n",
      "X-Content-Type-Options: nosniff\n",
      "X-Frame-Options: deny\n",
      "X-XSS-Protection: 1; mode=block\n",
      "X-GitHub-Request-Id: A1CB:3B161A:3A5023:4B0DF9:670E4BD0\n",
      "Accept-Ranges: bytes\n",
      "Date: Tue, 15 Oct 2024 11:02:43 GMT\n",
      "Via: 1.1 varnish\n",
      "X-Served-By: cache-del21741-DEL\n",
      "X-Cache: MISS\n",
      "X-Cache-Hits: 0\n",
      "X-Timer: S1728990161.957146,VS0,VE2114\n",
      "Vary: Authorization,Accept-Encoding,Origin\n",
      "Access-Control-Allow-Origin: *\n",
      "Cross-Origin-Resource-Policy: cross-origin\n",
      "X-Fastly-Request-ID: 4a40f89fe08a4e5fcaec9f7d30b89d3f88c7acd4\n",
      "Expires: Tue, 15 Oct 2024 11:07:43 GMT\n",
      "Source-Age: 2\n",
      "\n",
      "\n"
     ]
    }
   ],
   "source": [
    "try:\n",
    "    config= ConfigurationManager()\n",
    "    data_ingestion_config=config.get_data_ingestion_config()\n",
    "    data_ingestion=DataIngestion(config=data_ingestion_config)\n",
    "    data_ingestion.download_file()\n",
    "    data_ingestion.extract_zip_files()\n",
    "\n",
    "except Exception as e:\n",
    "    raise e    "
   ]
  }
 ],
 "metadata": {
  "kernelspec": {
   "display_name": "chicken_tools",
   "language": "python",
   "name": "python3"
  },
  "language_info": {
   "codemirror_mode": {
    "name": "ipython",
    "version": 3
   },
   "file_extension": ".py",
   "mimetype": "text/x-python",
   "name": "python",
   "nbconvert_exporter": "python",
   "pygments_lexer": "ipython3",
   "version": "3.12.4"
  }
 },
 "nbformat": 4,
 "nbformat_minor": 2
}
