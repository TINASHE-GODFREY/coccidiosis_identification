{
 "cells": [
  {
   "cell_type": "code",
   "execution_count": 1,
   "metadata": {},
   "outputs": [],
   "source": [
    "import os"
   ]
  },
  {
   "cell_type": "code",
   "execution_count": 2,
   "metadata": {},
   "outputs": [
    {
     "data": {
      "text/plain": [
       "'/home/tinashe/codes/chicken2/coccidiosis_identification/research'"
      ]
     },
     "execution_count": 2,
     "metadata": {},
     "output_type": "execute_result"
    }
   ],
   "source": [
    "%pwd"
   ]
  },
  {
   "cell_type": "code",
   "execution_count": 3,
   "metadata": {},
   "outputs": [],
   "source": [
    "os.chdir(\"../\")"
   ]
  },
  {
   "cell_type": "code",
   "execution_count": 4,
   "metadata": {},
   "outputs": [
    {
     "data": {
      "text/plain": [
       "'/home/tinashe/codes/chicken2/coccidiosis_identification'"
      ]
     },
     "execution_count": 4,
     "metadata": {},
     "output_type": "execute_result"
    }
   ],
   "source": [
    "%pwd"
   ]
  },
  {
   "cell_type": "code",
   "execution_count": 5,
   "metadata": {},
   "outputs": [],
   "source": [
    "from dataclasses import dataclass\n",
    "from pathlib import Path\n",
    "\n",
    "@dataclass(frozen=True)\n",
    "class TrainingConfig:\n",
    "    root_dir: Path\n",
    "    trained_model_path: Path\n",
    "    updated_base_model_path: Path\n",
    "    training_data: Path\n",
    "    parameter_epochs: int\n",
    "    parameter_batch_size: int\n",
    "    parameter_is_augmentation: bool\n",
    "    parameter_image_size: list\n",
    "\n",
    "\n",
    "@dataclass(frozen=True)\n",
    "class PrepareCallbacksConfig:\n",
    "    root_dir: Path\n",
    "    tensorboard_root_log_dir: Path\n",
    "    checkpoint_model_filepath:Path\n",
    "    "
   ]
  },
  {
   "cell_type": "code",
   "execution_count": 6,
   "metadata": {},
   "outputs": [
    {
     "name": "stdout",
     "output_type": "stream",
     "text": [
      "2024-12-06 17:45:32,038 - classifier - INFO - welcome tinashe\n"
     ]
    },
    {
     "name": "stderr",
     "output_type": "stream",
     "text": [
      "2024-12-06 17:45:35.547436: I tensorflow/core/platform/cpu_feature_guard.cc:210] This TensorFlow binary is optimized to use available CPU instructions in performance-critical operations.\n",
      "To enable the following instructions: SSE4.1 SSE4.2, in other operations, rebuild TensorFlow with the appropriate compiler flags.\n"
     ]
    }
   ],
   "source": [
    "from classifier.constants import *\n",
    "from classifier.utils.common_functions import read_yaml, create_dirctories\n",
    "import tensorflow as tf "
   ]
  },
  {
   "cell_type": "code",
   "execution_count": 10,
   "metadata": {},
   "outputs": [],
   "source": [
    "class ConfigurationManager:\n",
    "    def __init__(\n",
    "            self,\n",
    "            config_filepath= CONFIG_FILE_PATH,\n",
    "            ):\n",
    "        parameters_filepath= PARAMETERS_FILE_PATH\n",
    "        self.config= read_yaml(config_filepath)\n",
    "        self.parameter= read_yaml(parameters_filepath)\n",
    "        create_dirctories(self.config.artifacts_root)\n",
    "\n",
    "\n",
    "    def get_prepare_callbacks_config(self)-> PrepareCallbacksConfig:\n",
    "        config=self.config.prepare_callbacks\n",
    "        model_ckpt_dir= os.path.dirname(config.checkpoint_model_filepath)\n",
    "\n",
    "        create_dirctories([\n",
    "            Path(model_ckpt_dir),\n",
    "            Path(config.tensorboard_root_log_dir)\n",
    "        ])\n",
    "\n",
    "        prepare_callbacks_config= PrepareCallbacksConfig(\n",
    "            root_dir= Path(config.root_dir),\n",
    "            tensorboard_root_log_dir=Path(config.tensorboard_root_log_dir),\n",
    "            checkpoint_model_filepath=Path(config.checkpoint_model_filepath)\n",
    "        )\n",
    "        return prepare_callbacks_config\n",
    "    \n",
    "\n",
    "    #initialising training configuration \n",
    "    def get_training_config(self)->TrainingConfig:\n",
    "        training= self.config.training\n",
    "        prepare_base_model= self.config.prepare_base_model\n",
    "        parameter= self.parameter\n",
    "\n",
    "        training_data=os.path.join(self.config.data_ingestion.unzip_dir,\"Chicken-fecal-images\")\n",
    "        create_dirctories([Path(training.root_dir)])\n",
    "\n",
    "        training_config=TrainingConfig(\n",
    "            root_dir=Path(training.root_dir),\n",
    "            trained_model_path=Path(training.trained_model_path),\n",
    "            updated_base_model_path= Path(prepare_base_model.updated_base_model_path),\n",
    "            training_data= Path(training_data),\n",
    "            parameter_epochs= parameter.EPOCHS,\n",
    "            parameter_batch_size= parameter.BATCH_SIZE,\n",
    "            parameter_is_augmentation= parameter.AUGMENTATION,\n",
    "            parameter_image_size=parameter.IMAGE_SIZE\n",
    "       \n",
    "        )\n",
    "        return training_config\n",
    "\n",
    "    \n",
    "\n"
   ]
  },
  {
   "cell_type": "code",
   "execution_count": 11,
   "metadata": {},
   "outputs": [],
   "source": [
    "#creating componets\n",
    "import time"
   ]
  },
  {
   "cell_type": "code",
   "execution_count": null,
   "metadata": {},
   "outputs": [],
   "source": []
  }
 ],
 "metadata": {
  "kernelspec": {
   "display_name": "chicken_tools",
   "language": "python",
   "name": "python3"
  },
  "language_info": {
   "codemirror_mode": {
    "name": "ipython",
    "version": 3
   },
   "file_extension": ".py",
   "mimetype": "text/x-python",
   "name": "python",
   "nbconvert_exporter": "python",
   "pygments_lexer": "ipython3",
   "version": "3.12.4"
  }
 },
 "nbformat": 4,
 "nbformat_minor": 2
}
