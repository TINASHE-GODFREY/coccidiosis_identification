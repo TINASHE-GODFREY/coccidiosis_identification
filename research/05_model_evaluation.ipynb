{
 "cells": [
  {
   "cell_type": "code",
   "execution_count": 1,
   "metadata": {},
   "outputs": [],
   "source": [
    "import os"
   ]
  },
  {
   "cell_type": "code",
   "execution_count": 2,
   "metadata": {},
   "outputs": [
    {
     "data": {
      "text/plain": [
       "'/home/tinashe/codes/chicken2/coccidiosis_identification/research'"
      ]
     },
     "execution_count": 2,
     "metadata": {},
     "output_type": "execute_result"
    }
   ],
   "source": [
    "%pwd"
   ]
  },
  {
   "cell_type": "code",
   "execution_count": 3,
   "metadata": {},
   "outputs": [],
   "source": [
    "os.chdir(\"../\")"
   ]
  },
  {
   "cell_type": "code",
   "execution_count": 4,
   "metadata": {},
   "outputs": [
    {
     "data": {
      "text/plain": [
       "'/home/tinashe/codes/chicken2/coccidiosis_identification'"
      ]
     },
     "execution_count": 4,
     "metadata": {},
     "output_type": "execute_result"
    }
   ],
   "source": [
    "%pwd"
   ]
  },
  {
   "cell_type": "code",
   "execution_count": 5,
   "metadata": {},
   "outputs": [
    {
     "name": "stderr",
     "output_type": "stream",
     "text": [
      "2024-12-19 14:05:49.430332: I tensorflow/core/platform/cpu_feature_guard.cc:210] This TensorFlow binary is optimized to use available CPU instructions in performance-critical operations.\n",
      "To enable the following instructions: SSE4.1 SSE4.2, in other operations, rebuild TensorFlow with the appropriate compiler flags.\n"
     ]
    }
   ],
   "source": [
    "import tensorflow as tf "
   ]
  },
  {
   "cell_type": "code",
   "execution_count": 6,
   "metadata": {},
   "outputs": [],
   "source": [
    "model = tf.keras.models.load_model(\"artifacts/training/model.keras\")"
   ]
  },
  {
   "cell_type": "code",
   "execution_count": 7,
   "metadata": {},
   "outputs": [],
   "source": [
    "from dataclasses import dataclass\n",
    "from pathlib import Path\n",
    "\n",
    "@dataclass(frozen=True)\n",
    "class EvaluationConfig:\n",
    "    path_of_model: Path\n",
    "    training_data: Path\n",
    "    all_parameters: dict\n",
    "    parameters_image_size: list\n",
    "    parameters_batch_size: int\n",
    "    "
   ]
  },
  {
   "cell_type": "code",
   "execution_count": 8,
   "metadata": {},
   "outputs": [
    {
     "name": "stdout",
     "output_type": "stream",
     "text": [
      "2024-12-19 14:05:57,841 - classifier - INFO - welcome tinashe\n"
     ]
    }
   ],
   "source": [
    "from classifier.constants import *\n",
    "from classifier.utils.common_functions import read_yaml, create_dirctories, save_json\n"
   ]
  },
  {
   "cell_type": "code",
   "execution_count": 9,
   "metadata": {},
   "outputs": [],
   "source": [
    "class ConfigurationManager:\n",
    "    def __init__(\n",
    "            self,\n",
    "            config_filepath= CONFIG_FILE_PATH,\n",
    "            parameters_filepath= PARAMETERS_FILE_PATH\n",
    "            ):\n",
    "       \n",
    "        self.config= read_yaml(config_filepath)\n",
    "        self.parameters= read_yaml(parameters_filepath)\n",
    "        create_dirctories([self.config.artifacts_roots])\n",
    "\n",
    "    def get_validation_config(self)->EvaluationConfig:\n",
    "        eval_config=EvaluationConfig(\n",
    "            path_of_model= \"artifacts/training/model.keras\",\n",
    "            training_data= \"artifacts/data_ingestion/chicken_images\",\n",
    "            all_parameters= self.parameter,\n",
    "            parameters_image_size= self.parameters.IMAGE_SIZE,\n",
    "            parameters_batch_size= self.parameters.BATCH_SIZE\n",
    "            \n",
    "        )\n",
    "\n",
    "        return eval_config"
   ]
  },
  {
   "cell_type": "code",
   "execution_count": 10,
   "metadata": {},
   "outputs": [],
   "source": [
    "from urllib.parse import urlparse "
   ]
  },
  {
   "cell_type": "code",
   "execution_count": 11,
   "metadata": {},
   "outputs": [],
   "source": [
    "class Evaluation:\n",
    "    def __init__(self,config: EvaluationConfig):\n",
    "        self.config= config\n",
    "\n",
    "    def _valid_generator(self):\n",
    "\n",
    "\n",
    "        datagenerator_kwargs= dict(\n",
    "            rescale= 1./255,\n",
    "            validation_split= 0.30\n",
    "        )\n",
    "\n",
    "        dataflow_kwargs= dict(\n",
    "            target_size= self.config.parameters_image_size[:-1],\n",
    "            batch_size= self.config.parameters_batch_size,\n",
    "            interpolation= \"bilinear\"\n",
    "\n",
    "        )\n",
    "\n",
    "\n",
    "\n",
    "        valid_datagenerator= tf.keras.preprocessing.image.ImageDataGenerator(\n",
    "            **datagenerator_kwargs\n",
    "        )\n",
    "\n",
    "        self._valid_generator= valid_datagenerator.flow_from_directory(\n",
    "            directory= self.config.training_data,\n",
    "            subset= \"validation\",\n",
    "            shuffle= False,\n",
    "            **dataflow_kwargs\n",
    "\n",
    "        )\n",
    "\n",
    "\n",
    "\n",
    "    @staticmethod\n",
    "    def load_model(path: Path)->tf.keras.Model:\n",
    "        return tf.keras.models.load_model(path)\n",
    "        \n",
    "    def evaluation(self):\n",
    "        self.model= self.load_model(self.config.path_of_model)\n",
    "        self._valid_generator()\n",
    "        self.score=self.model.evaluate(self._valid_generator)\n",
    "\n",
    "    def save_score(self):\n",
    "            scores= {\"loss\":self.score[0], \"accuracy\": self.score[1]}\n",
    "            save_json(path=Path(\"scores.json\"), data= scores)\n",
    "\n",
    "\n",
    "\n",
    "\n",
    "\n",
    "\n",
    "    \n",
    "\n",
    "\n"
   ]
  },
  {
   "cell_type": "code",
   "execution_count": 12,
   "metadata": {},
   "outputs": [
    {
     "name": "stdout",
     "output_type": "stream",
     "text": [
      "2024-12-19 14:05:58,309 - classifier - INFO - yaml file: config/config.yaml loaded succefully\n",
      "2024-12-19 14:05:58,341 - classifier - INFO - yaml file: parameters.yaml loaded succefully\n",
      "2024-12-19 14:05:58,359 - classifier - INFO - created a directory at: artifacts\n",
      "Found 116 images belonging to 2 classes.\n"
     ]
    },
    {
     "name": "stderr",
     "output_type": "stream",
     "text": [
      "/home/tinashe/.conda/envs/chicken_tools/lib/python3.12/site-packages/keras/src/trainers/data_adapters/py_dataset_adapter.py:121: UserWarning: Your `PyDataset` class should call `super().__init__(**kwargs)` in its constructor. `**kwargs` can include `workers`, `use_multiprocessing`, `max_queue_size`. Do not pass these arguments to `fit()`, as they will be ignored.\n",
      "  self._warn_if_super_not_called()\n",
      "2024-12-19 14:06:04.371989: W external/local_tsl/tsl/framework/cpu_allocator_impl.cc:83] Allocation of 205520896 exceeds 10% of free system memory.\n",
      "2024-12-19 14:06:05.871484: W external/local_tsl/tsl/framework/cpu_allocator_impl.cc:83] Allocation of 205520896 exceeds 10% of free system memory.\n",
      "2024-12-19 14:06:15.405211: W external/local_tsl/tsl/framework/cpu_allocator_impl.cc:83] Allocation of 51380224 exceeds 10% of free system memory.\n",
      "2024-12-19 14:06:15.647176: W external/local_tsl/tsl/framework/cpu_allocator_impl.cc:83] Allocation of 102760448 exceeds 10% of free system memory.\n",
      "2024-12-19 14:06:20.512716: W external/local_tsl/tsl/framework/cpu_allocator_impl.cc:83] Allocation of 102760448 exceeds 10% of free system memory.\n"
     ]
    },
    {
     "name": "stdout",
     "output_type": "stream",
     "text": [
      "\u001b[1m8/8\u001b[0m \u001b[32m━━━━━━━━━━━━━━━━━━━━\u001b[0m\u001b[37m\u001b[0m \u001b[1m272s\u001b[0m 29s/step - accuracy: 0.7504 - loss: 13.0292\n",
      "2024-12-19 14:10:33,348 - classifier - INFO -  json file saved at:scores.json\n"
     ]
    }
   ],
   "source": [
    "try:\n",
    "    config= ConfigurationManager()\n",
    "    val_config= config.get_validation_config()\n",
    "    evaluation= Evaluation(val_config)\n",
    "    evaluation.evaluation()\n",
    "    evaluation.save_score()\n",
    "\n",
    "except Exception as e:\n",
    "    raise e"
   ]
  }
 ],
 "metadata": {
  "kernelspec": {
   "display_name": "chicken_tools",
   "language": "python",
   "name": "python3"
  },
  "language_info": {
   "codemirror_mode": {
    "name": "ipython",
    "version": 3
   },
   "file_extension": ".py",
   "mimetype": "text/x-python",
   "name": "python",
   "nbconvert_exporter": "python",
   "pygments_lexer": "ipython3",
   "version": "3.12.4"
  }
 },
 "nbformat": 4,
 "nbformat_minor": 2
}
