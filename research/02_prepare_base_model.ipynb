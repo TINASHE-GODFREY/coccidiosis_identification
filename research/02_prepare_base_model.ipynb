{
 "cells": [
  {
   "cell_type": "code",
   "execution_count": 7,
   "metadata": {},
   "outputs": [],
   "source": [
    "import os"
   ]
  },
  {
   "cell_type": "code",
   "execution_count": 8,
   "metadata": {},
   "outputs": [],
   "source": [
    "os.chdir(\"../\")"
   ]
  },
  {
   "cell_type": "code",
   "execution_count": 9,
   "metadata": {},
   "outputs": [
    {
     "data": {
      "text/plain": [
       "'/home/tinashe/codes/chicken2'"
      ]
     },
     "execution_count": 9,
     "metadata": {},
     "output_type": "execute_result"
    }
   ],
   "source": [
    "%pwd"
   ]
  },
  {
   "cell_type": "code",
   "execution_count": 10,
   "metadata": {},
   "outputs": [],
   "source": [
    "#initialising the model arguments\n",
    "from dataclasses import dataclass\n",
    "from pathlib import Path\n",
    "\n",
    "@dataclass( frozen=True)\n",
    "\n",
    "class PrepareBaseModelConfig:\n",
    "    root_dir:Path\n",
    "    base_model_path: Path\n",
    "    updated_base_model_path: Path\n",
    "    parameter_image_size: float\n",
    "    parameter_learning_rate: float\n",
    "    parameter_include_top: bool\n",
    "    parameter_weights: str\n",
    "    parameter_clases: int"
   ]
  },
  {
   "cell_type": "code",
   "execution_count": 11,
   "metadata": {},
   "outputs": [],
   "source": [
    "from classifier.constants import *\n",
    "from classifier.utils.common_functions import read_yaml, create_dirctories"
   ]
  },
  {
   "cell_type": "code",
   "execution_count": 12,
   "metadata": {},
   "outputs": [],
   "source": [
    "class ConfigurationManager:\n",
    "    def __init__(\n",
    "            self,\n",
    "            config_filepath= CONFIG_FILE_PATH,\n",
    "            parameters_filepath= PARAMETERS_FILE_PATH):\n",
    "         \n",
    "            self.config=read_yaml(config_filepath)\n",
    "            self.parameters=read_yaml(parameters_filepath)\n",
    "\n",
    "            create_dirctories([self.config.artifacts_roots])\n",
    "\n",
    "    def get_prepare_base_model_config(self)-> PrepareBaseModelConfig:\n",
    "          config=self.config.prepare_base_model\n",
    "\n",
    "          create_dirctories([config.root_dir])\n",
    "\n",
    "          prepare_base_model_config=PrepareBaseModelConfig(\n",
    "                root_dir=Path(config.root_dir),\n",
    "                base_model_path= Path(config.base_model_path),\n",
    "                updated_base_model_path=Path(config.updated_base_model_path),\n",
    "                parameter_image_size=self.parameters.IMAGE_SIZE,\n",
    "                parameter_learning_rate=self.parameters.LEARNING_RATE,\n",
    "                parameter_include_top=self.parameters.INCLUDE_TOP,\n",
    "                parameter_weights=self.parameters.WEIGHTS,\n",
    "                parameter_clases=self.parameters.CLASSES\n",
    "          )\n",
    "\n",
    "          return prepare_base_model_config\n",
    "    \n",
    "\n"
   ]
  }
 ],
 "metadata": {
  "kernelspec": {
   "display_name": "chicken_tools",
   "language": "python",
   "name": "python3"
  },
  "language_info": {
   "codemirror_mode": {
    "name": "ipython",
    "version": 3
   },
   "file_extension": ".py",
   "mimetype": "text/x-python",
   "name": "python",
   "nbconvert_exporter": "python",
   "pygments_lexer": "ipython3",
   "version": "3.12.4"
  }
 },
 "nbformat": 4,
 "nbformat_minor": 2
}
